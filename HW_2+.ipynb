{
 "cells": [
  {
   "cell_type": "markdown",
   "id": "published-galaxy",
   "metadata": {},
   "source": [
    "**1.Создать одномерный массив Numpy под названием a из 12 последовательных целых чисел чисел от 12 до 24 невключительно**"
   ]
  },
  {
   "cell_type": "code",
   "execution_count": 1,
   "id": "timely-arrow",
   "metadata": {},
   "outputs": [],
   "source": [
    "import numpy as np"
   ]
  },
  {
   "cell_type": "code",
   "execution_count": 2,
   "id": "confused-little",
   "metadata": {},
   "outputs": [
    {
     "name": "stdout",
     "output_type": "stream",
     "text": [
      "[12 13 14 15 16 17 18 19 20 21 22 23]\n"
     ]
    }
   ],
   "source": [
    "#a = np.array([i for i in range(12,25)])\n",
    "a = np.arange(12,24)\n",
    "print(a)"
   ]
  },
  {
   "cell_type": "markdown",
   "id": "young-literature",
   "metadata": {},
   "source": [
    "**2.Создать 5 двумерных массивов разной формы из массива a. Не использовать в аргументах метода reshape число -1.**"
   ]
  },
  {
   "cell_type": "code",
   "execution_count": 6,
   "id": "violent-shipping",
   "metadata": {
    "scrolled": false
   },
   "outputs": [
    {
     "name": "stdout",
     "output_type": "stream",
     "text": [
      "[[12 13]\n",
      " [14 15]\n",
      " [16 17]\n",
      " [18 19]\n",
      " [20 21]\n",
      " [22 23]]\n",
      "[[12 13 14]\n",
      " [15 16 17]\n",
      " [18 19 20]\n",
      " [21 22 23]]\n",
      "[[12 13 14 15]\n",
      " [16 17 18 19]\n",
      " [20 21 22 23]]\n",
      "[[12 13 14 15 16 17]\n",
      " [18 19 20 21 22 23]]\n",
      "[[12 13 14 15 16 17 18 19 20 21 22 23]]\n"
     ]
    }
   ],
   "source": [
    "s = [2,3,4,6,12]\n",
    "for i in s:\n",
    "    arr = np.reshape(a, (12//i, i)).copy()\n",
    "    print(arr)"
   ]
  },
  {
   "cell_type": "markdown",
   "id": "affecting-facing",
   "metadata": {},
   "source": [
    "**3.Создать 5 двумерных массивов разной формы из массива a. Использовать в аргументах метода reshape число -1 (в трех примерах - для обозначения числа столбцов, в двух - для строк).**"
   ]
  },
  {
   "cell_type": "code",
   "execution_count": 7,
   "id": "varied-viking",
   "metadata": {},
   "outputs": [
    {
     "name": "stdout",
     "output_type": "stream",
     "text": [
      "[[12 13]\n",
      " [14 15]\n",
      " [16 17]\n",
      " [18 19]\n",
      " [20 21]\n",
      " [22 23]]\n",
      "[[12 13 14]\n",
      " [15 16 17]\n",
      " [18 19 20]\n",
      " [21 22 23]]\n",
      "[[12 13 14 15]\n",
      " [16 17 18 19]\n",
      " [20 21 22 23]]\n",
      "[[12 13 14 15 16 17]\n",
      " [18 19 20 21 22 23]]\n",
      "[[12 13]\n",
      " [14 15]\n",
      " [16 17]\n",
      " [18 19]\n",
      " [20 21]\n",
      " [22 23]]\n"
     ]
    }
   ],
   "source": [
    "s = [[-1,2],[-1,3],[-1,4],[2,-1],[6,-1]]\n",
    "for i in s:\n",
    "    arr = np.reshape(a, (i[0], i[1])).copy()\n",
    "    print(arr)"
   ]
  },
  {
   "cell_type": "markdown",
   "id": "opened-uganda",
   "metadata": {},
   "source": [
    "**4.Можно ли массив Numpy, состоящий из одного столбца и 12 строк, назвать одномерным?**"
   ]
  },
  {
   "cell_type": "code",
   "execution_count": 13,
   "id": "solid-liability",
   "metadata": {
    "scrolled": true
   },
   "outputs": [
    {
     "name": "stdout",
     "output_type": "stream",
     "text": [
      "2\n",
      "2\n"
     ]
    }
   ],
   "source": [
    "arr = np.reshape(a, (12,1))\n",
    "print(arr.ndim)\n",
    "print(arr.T.ndim)"
   ]
  },
  {
   "cell_type": "markdown",
   "id": "timely-roulette",
   "metadata": {},
   "source": [
    "Нет, нельзя"
   ]
  },
  {
   "cell_type": "markdown",
   "id": "intimate-designation",
   "metadata": {},
   "source": [
    "**5.Создать массив из 3 строк и 4 столбцов, состоящий из случайных чисел с плавающей запятой из нормального распределения со средним, равным 0 и среднеквадратичным отклонением, равным 1.0. Получить из этого массива одномерный массив с таким же атрибутом size, как и исходный массив.**"
   ]
  },
  {
   "cell_type": "code",
   "execution_count": 31,
   "id": "tired-toddler",
   "metadata": {},
   "outputs": [
    {
     "name": "stdout",
     "output_type": "stream",
     "text": [
      "[[ 0.2088636  -1.95967012 -1.32818605  0.19686124]\n",
      " [ 0.73846658  0.17136828 -0.11564828 -0.3011037 ]\n",
      " [-1.47852199 -0.71984421 -0.46063877  1.05712223]] 12\n",
      "[ 0.2088636  -1.95967012 -1.32818605  0.19686124  0.73846658  0.17136828\n",
      " -0.11564828 -0.3011037  -1.47852199 -0.71984421 -0.46063877  1.05712223] 12\n"
     ]
    }
   ],
   "source": [
    "a = np.random.randn(3,4)\n",
    "print(a, a.size)\n",
    "\n",
    "a2 = a.flatten()\n",
    "print(a2, a2.size)"
   ]
  },
  {
   "cell_type": "markdown",
   "id": "political-negotiation",
   "metadata": {},
   "source": [
    "**6.Создать массив a, состоящий из целых чисел, убывающих от 20 до 0 невключительно с интервалом 2.**"
   ]
  },
  {
   "cell_type": "code",
   "execution_count": 16,
   "id": "responsible-health",
   "metadata": {},
   "outputs": [
    {
     "name": "stdout",
     "output_type": "stream",
     "text": [
      "[20 18 16 14 12 10  8  6  4  2]\n"
     ]
    }
   ],
   "source": [
    "a = np.arange(20,0,-2)\n",
    "print(a)"
   ]
  },
  {
   "cell_type": "markdown",
   "id": "elder-persian",
   "metadata": {},
   "source": [
    "**7.Создать массив b, состоящий из 1 строки и 10 столбцов: целых чисел, убывающих от 20 до 1 невключительно с интервалом 2. В чем разница между массивами a и b?**"
   ]
  },
  {
   "cell_type": "code",
   "execution_count": 21,
   "id": "affected-mistake",
   "metadata": {},
   "outputs": [
    {
     "name": "stdout",
     "output_type": "stream",
     "text": [
      "2 1\n",
      "[[20 18 16 14 12 10  8  6  4  2]]\n"
     ]
    }
   ],
   "source": [
    "b = np.reshape(a, (1,-1))\n",
    "#разница в размерности\n",
    "print(b.ndim, a.ndim)"
   ]
  },
  {
   "cell_type": "markdown",
   "id": "alpine-manhattan",
   "metadata": {},
   "source": [
    "**8.Вертикально соединить массивы a и b. a - двумерный массив из нулей, число строк которого больше 1 и на 1 меньше, чем число строк двумерного массива b, состоящего из единиц. Итоговый массив v должен иметь атрибут size, равный 10.**"
   ]
  },
  {
   "cell_type": "code",
   "execution_count": 73,
   "id": "future-firmware",
   "metadata": {},
   "outputs": [
    {
     "name": "stdout",
     "output_type": "stream",
     "text": [
      "[[0 0]\n",
      " [0 0]\n",
      " [1 1]\n",
      " [1 1]\n",
      " [1 1]] 10\n"
     ]
    }
   ],
   "source": [
    "#задание совсем не понял\n",
    "a = np.array([[0,0],[0,0]])\n",
    "b = np.array([[1,1],[1,1],[1,1]])\n",
    "v = np.concatenate((a,b), axis=0)\n",
    "print(v, v.size)"
   ]
  },
  {
   "cell_type": "markdown",
   "id": "warming-bunny",
   "metadata": {},
   "source": [
    "**9.Создать одномерный массив а, состоящий из последовательности целых чисел от 0 до 12.** *(Не включительно?)* **Поменять форму этого массива, чтобы получилась матрица A (двумерный массив Numpy), состоящая из 4 строк и 3 столбцов. Получить матрицу At путем транспонирования матрицы A. Получить матрицу B, умножив матрицу A на матрицу At с помощью матричного умножения. Какой размер имеет матрица B? Получится ли вычислить обратную матрицу для матрицы B и почему?**"
   ]
  },
  {
   "cell_type": "code",
   "execution_count": 56,
   "id": "scenic-satellite",
   "metadata": {},
   "outputs": [
    {
     "name": "stdout",
     "output_type": "stream",
     "text": [
      "[[  5  14  23  32]\n",
      " [ 14  50  86 122]\n",
      " [ 23  86 149 212]\n",
      " [ 32 122 212 302]]\n"
     ]
    }
   ],
   "source": [
    "a = np.arange(0,12)\n",
    "A = a.reshape((4,3))\n",
    "At = A.T\n",
    "B = A.dot(At)\n",
    "print(B)"
   ]
  },
  {
   "cell_type": "code",
   "execution_count": 57,
   "id": "consistent-monitoring",
   "metadata": {},
   "outputs": [
    {
     "name": "stdout",
     "output_type": "stream",
     "text": [
      "16 0.0\n"
     ]
    }
   ],
   "source": [
    "#Вычислить обратную матрицу от B не получится, потому что её детерминант равен 0.\n",
    "print(B.size, np.linalg.det(B))"
   ]
  },
  {
   "cell_type": "markdown",
   "id": "ignored-chester",
   "metadata": {},
   "source": [
    "**10.Инициализируйте генератор случайных числе с помощью объекта seed, равного 42.**"
   ]
  },
  {
   "cell_type": "code",
   "execution_count": 27,
   "id": "ruled-external",
   "metadata": {},
   "outputs": [],
   "source": [
    "np.random.seed(42)"
   ]
  },
  {
   "cell_type": "markdown",
   "id": "decreased-chaos",
   "metadata": {},
   "source": [
    "**11.Создайте одномерный массив c, составленный из последовательности 16-ти случайных равномерно распределенных целых чисел от 0 до 16 невключительно.**"
   ]
  },
  {
   "cell_type": "code",
   "execution_count": 45,
   "id": "recreational-break",
   "metadata": {},
   "outputs": [
    {
     "name": "stdout",
     "output_type": "stream",
     "text": [
      "[ 0  2  4 14 13  2  0  4  9  6 14 13  6 10  8 14]\n"
     ]
    }
   ],
   "source": [
    "c = np.random.randint(0,16,16)\n",
    "print(c)"
   ]
  },
  {
   "cell_type": "markdown",
   "id": "fantastic-handling",
   "metadata": {},
   "source": [
    "**12.Поменяйте его форму так, чтобы получилась квадратная матрица C. Получите матрицу D, поэлементно прибавив матрицу B из предыдущего вопроса к матрице C, умноженной на 10. Вычислите определитель, ранг и обратную матрицу D_inv для D.**"
   ]
  },
  {
   "cell_type": "code",
   "execution_count": 46,
   "id": "banned-hormone",
   "metadata": {},
   "outputs": [
    {
     "name": "stdout",
     "output_type": "stream",
     "text": [
      "[[ 0  2  4 14]\n",
      " [13  2  0  4]\n",
      " [ 9  6 14 13]\n",
      " [ 6 10  8 14]]\n"
     ]
    }
   ],
   "source": [
    "C = c.reshape(4,4)\n",
    "print(C)"
   ]
  },
  {
   "cell_type": "code",
   "execution_count": 60,
   "id": "lightweight-religion",
   "metadata": {},
   "outputs": [
    {
     "name": "stdout",
     "output_type": "stream",
     "text": [
      "[[  5  34  63 172]\n",
      " [144  70  86 162]\n",
      " [113 146 289 342]\n",
      " [ 92 222 292 442]]\n"
     ]
    }
   ],
   "source": [
    "D = B + C*10\n",
    "print(D)"
   ]
  },
  {
   "cell_type": "code",
   "execution_count": 88,
   "id": "economic-music",
   "metadata": {},
   "outputs": [
    {
     "name": "stdout",
     "output_type": "stream",
     "text": [
      "[[-0.00221199  0.00809956  0.00092421 -0.00282295]\n",
      " [-0.01376725  0.00030688 -0.01095042  0.01371787]\n",
      " [-0.00415996 -0.00524504  0.01076887 -0.00479128]\n",
      " [ 0.01012339  0.00162503 -0.00180666 -0.00087466]]\n",
      "3.9761020363209016e-09 4\n",
      "<class 'numpy.ndarray'>\n"
     ]
    }
   ],
   "source": [
    "D_inv = np.linalg.inv(D)\n",
    "print(D_inv)\n",
    "print(np.linalg.det(D_inv), np.linalg.matrix_rank(D_inv))\n",
    "print(type(D_inv))"
   ]
  },
  {
   "cell_type": "markdown",
   "id": "maritime-lodging",
   "metadata": {},
   "source": [
    "**13.Приравняйте к нулю отрицательные числа в матрице D_inv, а положительные - к единице. Убедитесь, что в матрице D_inv остались только нули и единицы. С помощью функции numpy.where, используя матрицу D_inv в качестве маски, а матрицы B и C - в качестве источников данных, получите матрицу E размером 4x4.  Элементы матрицы E, для которых соответствующий элемент матрицы D_inv равен 1, должны быть равны соответствующему элементу матрицы B, а элементы матрицы E, для которых соответствующий элемент матрицы D_inv равен 0, должны быть равны соответствующему элементу матрицы C.**"
   ]
  },
  {
   "cell_type": "code",
   "execution_count": 89,
   "id": "minimal-broadcast",
   "metadata": {},
   "outputs": [
    {
     "name": "stdout",
     "output_type": "stream",
     "text": [
      "<class 'numpy.ndarray'>\n",
      "[[0 1 1 0]\n",
      " [0 1 0 1]\n",
      " [0 0 1 0]\n",
      " [1 1 0 0]]\n"
     ]
    }
   ],
   "source": [
    "print(type(D_inv))\n",
    "D_inv = D_inv.flatten()\n",
    "D_inv = [0 if d_ < 0 else 1 for d_ in D_inv]\n",
    "D_inv = np.array(D_inv).reshape(4,4)"
   ]
  },
  {
   "cell_type": "code",
   "execution_count": 91,
   "id": "liable-mistake",
   "metadata": {},
   "outputs": [
    {
     "name": "stdout",
     "output_type": "stream",
     "text": [
      "[[  0  14  23  14]\n",
      " [ 13  50   0 122]\n",
      " [  9   6 149  13]\n",
      " [ 32 122   8  14]]\n"
     ]
    }
   ],
   "source": [
    "E = np.where(D_inv, B, C)\n",
    "print(E)"
   ]
  }
 ],
 "metadata": {
  "kernelspec": {
   "display_name": "Python 3",
   "language": "python",
   "name": "python3"
  },
  "language_info": {
   "codemirror_mode": {
    "name": "ipython",
    "version": 3
   },
   "file_extension": ".py",
   "mimetype": "text/x-python",
   "name": "python",
   "nbconvert_exporter": "python",
   "pygments_lexer": "ipython3",
   "version": "3.8.8"
  }
 },
 "nbformat": 4,
 "nbformat_minor": 5
}
